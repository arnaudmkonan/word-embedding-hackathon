{
 "cells": [
  {
   "cell_type": "markdown",
   "metadata": {},
   "source": [
    "# Introduction\n",
    "\n",
    "\n",
    "word embeddings are dense vectors that represent words and they are what we use as input to our language models. These embeddings are trained separately than our models on lots of text..that could be text from Wikipedia, from other places on the internet or specialized content, like SPDs.\n",
    "\n",
    "\n",
    "When we train our models we can adjust these embeddings, but it's usually better to freeze them since allowing them to change creates too many flexible parameters and leads us to over-fit easily.\n",
    "\n",
    "\n",
    "If we normalize our text before hand we can control what our word embeddings are eg we could convert words like \n",
    "`OOP` to `out of pocket` or whatever we wish, it could be `outofpocket`, as long as we stick to this convention. This tutorial we learn how to creat our own embeddings or word representations.\n",
    "\n",
    "\n",
    "This notebook trains on wikipedia data but eventually we'll collect our own texts with the help of Dani et al. and see how certain terms change!"
   ]
  },
  {
   "cell_type": "markdown",
   "metadata": {},
   "source": [
    "# Word Embedding Tutorial: Skip-gram word2vec\n",
    "\n",
    "In this notebook, I'll lead you through using TensorFlow to implement the word2vec algorithm using the skip-gram architecture. By implementing this, you'll learn about embedding words for use in natural language processing. This will come in handy when dealing with things like machine translation.\n",
    "\n",
    "## Readings\n",
    "\n",
    "Here are the resources I used to build this notebook. I suggest reading these either beforehand or while you're working on this material.\n",
    "\n",
    "\n",
    "* http://ruder.io/word-embeddings-1/\n",
    "\n",
    "* A really good [conceptual overview](http://mccormickml.com/2016/04/19/word2vec-tutorial-the-skip-gram-model/) of word2vec from Chris McCormick \n",
    "* [First word2vec paper](https://arxiv.org/pdf/1301.3781.pdf) from Mikolov et al.\n",
    "* An [implementation of word2vec](http://www.thushv.com/natural_language_processing/word2vec-part-1-nlp-with-deep-learning-with-tensorflow-skip-gram/) from Thushan Ganegedara\n",
    "* TensorFlow [word2vec tutorial](https://www.tensorflow.org/tutorials/word2vec)\n",
    "\n",
    "an interesting with improvements:\n",
    "* Distributed Representations of Words and Phrases and their Compositionality\n",
    "http://papers.nips.cc/paper/5021-distributed-representations-of-words-and-phrases-and-their-compositionality.pdf\n",
    "\n",
    "## Word embeddings\n",
    "\n",
    "When you're dealing with words in text, you end up with tens of thousands of classes to predict, one for each word. Trying to one-hot encode these words is massively inefficient, you'll have one element set to 1 and the other 50,000 set to 0. The matrix multiplication going into the first hidden layer will have almost all of the resulting values be zero. This a huge waste of computation. \n",
    "\n",
    "![one-hot encodings](assets/one_hot_encoding.png)\n",
    "\n",
    "To solve this problem and greatly increase the efficiency of our networks, we use what are called embeddings. Embeddings are just a fully connected layer like you've seen before. We call this layer the embedding layer and the weights are embedding weights. We skip the multiplication into the embedding layer by instead directly grabbing the hidden layer values from the weight matrix. We can do this because the multiplication of a one-hot encoded vector with a matrix returns the row of the matrix corresponding the index of the \"on\" input unit.\n",
    "\n",
    "![lookup](assets/lookup_matrix.png)\n",
    "\n",
    "Instead of doing the matrix multiplication, we use the weight matrix as a lookup table. We encode the words as integers, for example \"heart\" is encoded as 958, \"mind\" as 18094. Then to get hidden layer values for \"heart\", you just take the 958th row of the embedding matrix. This process is called an **embedding lookup** and the number of hidden units is the **embedding dimension**.\n",
    "\n",
    "<img src='assets/tokenize_lookup.png' width=500>\n",
    " \n",
    "There is nothing magical going on here. The embedding lookup table is just a weight matrix. The embedding layer is just a hidden layer. The lookup is just a shortcut for the matrix multiplication. The lookup table is trained just like any weight matrix as well.\n",
    "\n",
    "Embeddings aren't only used for words of course. You can use them for any model where you have a massive number of classes. A particular type of model called **Word2Vec** uses the embedding layer to find vector representations of words that contain semantic meaning.\n",
    "\n"
   ]
  },
  {
   "cell_type": "markdown",
   "metadata": {},
   "source": [
    "## Word2Vec\n",
    "\n",
    "The word2vec algorithm finds much more efficient representations by finding vectors that represent the words. These vectors also contain semantic information about the words. Words that show up in similar contexts, such as \"black\", \"white\", and \"red\" will have vectors near each other. There are two architectures for implementing word2vec, CBOW (Continuous Bag-Of-Words) and Skip-gram.\n",
    "\n",
    "<img src=\"assets/word2vec_architectures.png\" width=\"500\">\n",
    "\n",
    "In this implementation, we'll be using the skip-gram architecture because it performs better than CBOW. Here, we pass in a word and try to predict the words surrounding it in the text. In this way, we can train the network to learn representations for words that show up in similar contexts.\n",
    "\n",
    "First up, importing packages."
   ]
  },
  {
   "cell_type": "code",
   "execution_count": 1,
   "metadata": {
    "collapsed": true
   },
   "outputs": [],
   "source": [
    "import time\n",
    "\n",
    "import numpy as np\n",
    "import tensorflow as tf\n",
    "\n",
    "import utils\n",
    "import mutils"
   ]
  },
  {
   "cell_type": "code",
   "execution_count": 2,
   "metadata": {},
   "outputs": [
    {
     "name": "stdout",
     "output_type": "stream",
     "text": [
      "/Users/macleodm/code/word-embedding-hackathon/src\r\n"
     ]
    }
   ],
   "source": [
    "!pwd\n"
   ]
  },
  {
   "cell_type": "markdown",
   "metadata": {},
   "source": [
    "Load the raw twitter dataset.  \n"
   ]
  },
  {
   "cell_type": "code",
   "execution_count": 3,
   "metadata": {
    "collapsed": true
   },
   "outputs": [],
   "source": [
    "from urllib.request import urlretrieve\n",
    "from os.path import isfile, isdir\n",
    "from tqdm import tqdm\n",
    "import zipfile\n",
    "\n",
    "text = ''\n",
    "with open('./data/twitter.txt') as f:\n",
    "    for line in f:\n",
    "        text += ' ' + line.strip().rstrip(\"\\n\\r\")"
   ]
  },
  {
   "cell_type": "code",
   "execution_count": 4,
   "metadata": {},
   "outputs": [
    {
     "data": {
      "text/plain": [
       "(str, 335493831)"
      ]
     },
     "execution_count": 4,
     "metadata": {},
     "output_type": "execute_result"
    }
   ],
   "source": [
    "type(text), len(text)"
   ]
  },
  {
   "cell_type": "code",
   "execution_count": 5,
   "metadata": {},
   "outputs": [
    {
     "name": "stdout",
     "output_type": "stream",
     "text": [
      " Streaming twitter niggas name is bigtreesh I'm fucking weakkkk , treeshy RT THE BOSS:  , RT KU vs WVA delivery of the game ball by TOPEKA On road Supv. Paul Anderson! Rock Chalk , RT Hillary - Out of\n"
     ]
    }
   ],
   "source": [
    "print(text[0:200])"
   ]
  },
  {
   "cell_type": "markdown",
   "metadata": {},
   "source": [
    "## Preprocessing\n",
    "\n",
    "Here I'm fixing up the text to make training easier. This comes from the `utils` module I wrote. The `preprocess` function coverts any punctuation into tokens, so a period is changed to ` <PERIOD> `. In this data set, there aren't any periods, but it will help in other NLP problems. I'm also removing all words that show up n (was five) below is 20 or fewer times in the dataset. This will greatly reduce issues due to noise in the data and improve the quality of the vector representations. If you want to write your own functions for this stuff, go for it."
   ]
  },
  {
   "cell_type": "code",
   "execution_count": 6,
   "metadata": {
    "collapsed": true
   },
   "outputs": [],
   "source": [
    "# NB that words have a natural (meaningful) order as the occur in language and have context..that we'll use later!\n",
    "words = mutils.preprocess(text, 20)"
   ]
  },
  {
   "cell_type": "code",
   "execution_count": 7,
   "metadata": {},
   "outputs": [
    {
     "name": "stdout",
     "output_type": "stream",
     "text": [
      "['Streaming', 'twitter', 'niggas', 'name', 'is', \"I'm\", 'fucking', '<COMMA>', 'RT', 'THE', 'BOSS', '<COLON>', '<COMMA>', 'RT', 'KU', 'vs', 'delivery', 'of', 'the', 'game', 'ball', 'by', 'On', 'road', '<PERIOD>', 'Paul', 'Anderson', '<EXCLAMATION_MARK>', 'Rock', '<COMMA>', 'RT', 'Hillary', '-', 'Out', 'of', 'Touch', 'On', 'Our', 'Planet', '<SEMICOLON>', 'Life', 'in', 'a', 'Titanium', 'Bubble', '<COMMA>', '…', 'RT', 'D3', 'State', 'Tournament', 'Wrestling', 'Update', '<COLON>', 'Brian', 'Garry', '<LEFT_PAREN>', '120', '<RIGHT_PAREN>', '&amp', '<SEMICOLON>', 'Spencer', '<LEFT_PAREN>', '195', '<RIGHT_PAREN>', 'have', 'both', 'advanced', 'to', 'the', 'State', 'RT', 'Day', '&amp', '<SEMICOLON>', 'night', 'Symmetra', '<EXCLAMATION_MARK>', 'Katsucon', 'is', 'going', 'really', 'well', 'so', 'far', '<PERIOD>', 'I’m', 'looking', 'forward', 'to', 'the', 'Overwatch', 'photoshoot', 'today', '<EXCLAMATION_MARK>', 'See', 'y…', 'is', 'a', 'lying']\n"
     ]
    }
   ],
   "source": [
    "# NB notice that these are just strings..so we can preprocess our text to any specification we wish!\n",
    "print(words[:100])"
   ]
  },
  {
   "cell_type": "code",
   "execution_count": 8,
   "metadata": {},
   "outputs": [
    {
     "name": "stdout",
     "output_type": "stream",
     "text": [
      "Total words:  70476899\n",
      "Unique words: 68805\n"
     ]
    }
   ],
   "source": [
    "print(\"Total words:  {}\".format(len(words)))\n",
    "print(\"Unique words: {}\".format(len(set(words))))"
   ]
  },
  {
   "cell_type": "markdown",
   "metadata": {},
   "source": [
    "And here I'm creating dictionaries to covert words to integers and backwards, integers to words. The integers are assigned in descending frequency order, so the most frequent word (\"the\") is given the integer 0 and the next most frequent is 1 and so on. The words are converted to integers and stored in the list `int_words`."
   ]
  },
  {
   "cell_type": "code",
   "execution_count": 11,
   "metadata": {
    "collapsed": true
   },
   "outputs": [],
   "source": [
    "# the dictionary my be ordered by frequency but the int_word order is same as text\n",
    "vocab_to_int, int_to_vocab = utils.create_lookup_tables(words)\n",
    "int_words = [vocab_to_int[word] for word in words]"
   ]
  },
  {
   "cell_type": "markdown",
   "metadata": {},
   "source": [
    "### Special WC vocabulary terms we'd like to track"
   ]
  },
  {
   "cell_type": "code",
   "execution_count": 12,
   "metadata": {},
   "outputs": [
    {
     "name": "stdout",
     "output_type": "stream",
     "text": [
      "Benefit terms:\n",
      "term: insurance vocab integer:\t 7631\n",
      "term: maximum vocab integer:\t 11646\n",
      "term: claim vocab integer:\t 2170\n",
      "term: claims vocab integer:\t 3048\n",
      "term: policy vocab integer:\t 2719\n",
      "term: dime vocab integer:\t 17261\n",
      "term: D1 vocab integer:\t 21863\n",
      "\n",
      "Non Benefit terms:\n",
      "term: man vocab integer:\t 147\n",
      "term: woman vocab integer:\t 594\n",
      "term: cat vocab integer:\t 1059\n",
      "term: dog vocab integer:\t 758\n"
     ]
    }
   ],
   "source": [
    "benefits_terms = ['insurance','maximum','claim','claims','policy','dime', 'D1']\n",
    "non_benefit_terms = ['man', 'woman','cat','dog']\n",
    "print('Benefit terms:')\n",
    "for i in benefits_terms:\n",
    "    print('term:', i, 'vocab integer:\\t', vocab_to_int[i])\n",
    "    \n",
    "print()\n",
    "print('Non Benefit terms:')\n",
    "for i in non_benefit_terms:\n",
    "    print('term:', i, 'vocab integer:\\t', vocab_to_int[i])\n",
    "    \n",
    "benefits_terms_ints = [vocab_to_int[i] for i in benefits_terms]\n",
    "non_benefits_terms_ints = [vocab_to_int[i] for i in non_benefit_terms]"
   ]
  },
  {
   "cell_type": "code",
   "execution_count": 13,
   "metadata": {},
   "outputs": [
    {
     "name": "stdout",
     "output_type": "stream",
     "text": [
      "term: injury vocab integer:\t 6997\n",
      "term: compensation vocab integer:\t 14054\n",
      "term: worker vocab integer:\t 8007\n",
      "term: workers vocab integer:\t 4364\n"
     ]
    }
   ],
   "source": [
    "my_terms = ['injury','compensation','worker','workers']\n",
    "for i in my_terms:\n",
    "    print('term:', i, 'vocab integer:\\t', vocab_to_int[i])\n",
    "my_terms_ints = [vocab_to_int[i] for i in my_terms]"
   ]
  },
  {
   "cell_type": "code",
   "execution_count": 14,
   "metadata": {},
   "outputs": [
    {
     "name": "stdout",
     "output_type": "stream",
     "text": [
      "Nice to have terms:\n",
      "term: PTD \tin set:\t False\n",
      "term: TTD \tin set:\t False\n",
      "term: DOI \tin set:\t False\n",
      "term: DIME \tin set:\t False\n"
     ]
    }
   ],
   "source": [
    "# note that a lot of terms we want are not in the dataset\n",
    "print('Nice to have terms:')\n",
    "nice_terms = ['PTD','TTD','DOI','DIME']\n",
    "for i in nice_terms:\n",
    "    print('term:',i, '\\tin set:\\t', i in set(words))"
   ]
  },
  {
   "cell_type": "markdown",
   "metadata": {},
   "source": [
    "## Subsampling\n",
    "\n",
    "Words that show up often such as \"the\", \"of\", and \"for\" don't provide much context to the nearby words. If we discard some of them, we can remove some of the noise from our data and in return get faster training and better representations. This process is called subsampling by Mikolov. For each word $w_i$ in the training set, we'll discard it with probability given by \n",
    "\n",
    "$$ P(w_i) = 1 - \\sqrt{\\frac{t}{f(w_i)}} $$\n",
    "\n",
    "where $t$ is a threshold parameter and $f(w_i)$ is the frequency of word $w_i$ in the total dataset.\n",
    "\n",
    "I'm going to leave this up to you as an exercise. Check out my solution to see how I did it.\n",
    "\n",
    "> **Exercise:** Implement subsampling for the words in `int_words`. That is, go through `int_words` and discard each word given the probablility $P(w_i)$ shown above. Note that $P(w_i)$ is that probability that a word is discarded. Assign the subsampled data to `train_words`."
   ]
  },
  {
   "cell_type": "code",
   "execution_count": 15,
   "metadata": {
    "collapsed": true
   },
   "outputs": [],
   "source": [
    "from collections import Counter\n",
    "import random\n",
    "\n",
    "threshold = 1e-5\n",
    "word_counts = Counter(int_words)\n",
    "total_count = len(int_words)\n",
    "freqs = {word: count/total_count for word, count in word_counts.items()}\n",
    "p_drop = {word: 1 - np.sqrt(threshold/freqs[word]) for word in word_counts}\n",
    "train_words = [word for word in int_words if random.random() < (1 - p_drop[word])]"
   ]
  },
  {
   "cell_type": "markdown",
   "metadata": {},
   "source": [
    "## Making batches"
   ]
  },
  {
   "cell_type": "markdown",
   "metadata": {},
   "source": [
    "Now that our data is in good shape, we need to get it into the proper form to pass it into our network. With the skip-gram architecture, for each word in the text, we want to grab all the words in a window around that word, with size $C$. \n",
    "\n",
    "From [Mikolov et al.](https://arxiv.org/pdf/1301.3781.pdf): \n",
    "\n",
    "\"Since the more distant words are usually less related to the current word than those close to it, we give less weight to the distant words by sampling less from those words in our training examples... If we choose $C = 5$, for each training word we will select randomly a number $R$ in range $< 1; C >$, and then use $R$ words from history and $R$ words from the future of the current word as correct labels.\"\n",
    "\n",
    "> **Exercise:** Implement a function `get_target` that receives a list of words, an index, and a window size, then returns a list of words in the window around the index. Make sure to use the algorithm described above, where you chose a random number of words to from the window."
   ]
  },
  {
   "cell_type": "code",
   "execution_count": 16,
   "metadata": {
    "collapsed": true
   },
   "outputs": [],
   "source": [
    "def get_target(words, idx, window_size=5):\n",
    "    ''' Get a list of words in a window around an index. '''\n",
    "    \n",
    "    R = np.random.randint(1, window_size+1)\n",
    "    start = idx - R if (idx - R) > 0 else 0\n",
    "    stop = idx + R\n",
    "    target_words = set(words[start:idx] + words[idx+1:stop+1])\n",
    "    \n",
    "    return list(target_words)"
   ]
  },
  {
   "cell_type": "markdown",
   "metadata": {},
   "source": [
    "Here's a function that returns batches for our network. The idea is that it grabs `batch_size` words from a words list. Then for each of those words, it gets the target words in the window. I haven't found a way to pass in a random number of target words and get it to work with the architecture, so I make one row per input-target pair. This is a generator function by the way, helps save memory."
   ]
  },
  {
   "cell_type": "code",
   "execution_count": 17,
   "metadata": {
    "collapsed": true
   },
   "outputs": [],
   "source": [
    "def get_batches(words, batch_size, window_size=5):\n",
    "    ''' Create a generator of word batches as a tuple (inputs, targets) '''\n",
    "    \n",
    "    n_batches = len(words)//batch_size\n",
    "    \n",
    "    # only full batches\n",
    "    words = words[:n_batches*batch_size]\n",
    "    \n",
    "    for idx in range(0, len(words), batch_size):\n",
    "        x, y = [], []\n",
    "        batch = words[idx:idx+batch_size]\n",
    "        for ii in range(len(batch)):\n",
    "            batch_x = batch[ii]\n",
    "            batch_y = get_target(batch, ii, window_size)\n",
    "            y.extend(batch_y)\n",
    "            x.extend([batch_x]*len(batch_y))\n",
    "        yield x, y\n",
    "    "
   ]
  },
  {
   "cell_type": "markdown",
   "metadata": {},
   "source": [
    "## Building the graph\n",
    "\n",
    "From [Chris McCormick's blog](http://mccormickml.com/2016/04/19/word2vec-tutorial-the-skip-gram-model/), we can see the general structure of our network.\n",
    "![embedding_network](./assets/skip_gram_net_arch.png)\n",
    "\n",
    "The input words are passed in as one-hot encoded vectors. This will go into a hidden layer of linear units, then into a softmax layer. We'll use the softmax layer to make a prediction like normal.\n",
    "\n",
    "The idea here is to train the hidden layer weight matrix to find efficient representations for our words. We can discard the softmax layer becuase we don't really care about making predictions with this network. We just want the embedding matrix so we can use it in other networks we build from the dataset.\n",
    "\n",
    "I'm going to have you build the graph in stages now. First off, creating the `inputs` and `labels` placeholders like normal.\n",
    "\n",
    "> **Exercise:** Assign `inputs` and `labels` using `tf.placeholder`. We're going to be passing in integers, so set the data types to `tf.int32`. The batches we're passing in will have varying sizes, so set the batch sizes to [`None`]. To make things work later, you'll need to set the second dimension of `labels` to `None` or `1`."
   ]
  },
  {
   "cell_type": "code",
   "execution_count": 18,
   "metadata": {
    "collapsed": true
   },
   "outputs": [],
   "source": [
    "train_graph = tf.Graph()\n",
    "with train_graph.as_default():\n",
    "    inputs = tf.placeholder(tf.int32, [None], name='inputs')\n",
    "    labels = tf.placeholder(tf.int32, [None, None], name='labels')"
   ]
  },
  {
   "cell_type": "markdown",
   "metadata": {},
   "source": [
    "## Embedding\n",
    "\n"
   ]
  },
  {
   "cell_type": "markdown",
   "metadata": {
    "collapsed": true
   },
   "source": [
    "The embedding matrix has a size of the number of words by the number of units in the hidden layer. So, if you have 10,000 words and 300 hidden units, the matrix will have size $10,000 \\times 300$. Remember that we're using tokenized data for our inputs, usually as integers, where the number of tokens is the number of words in our vocabulary.\n",
    "\n",
    "\n",
    "> **Exercise:** Tensorflow provides a convenient function [`tf.nn.embedding_lookup`](https://www.tensorflow.org/api_docs/python/tf/nn/embedding_lookup) that does this lookup for us. You pass in the embedding matrix and a tensor of integers, then it returns rows in the matrix corresponding to those integers. Below, set the number of embedding features you'll use (200 is a good start), create the embedding matrix variable, and use `tf.nn.embedding_lookup` to get the embedding tensors. For the embedding matrix, I suggest you initialize it with a uniform random numbers between -1 and 1 using [tf.random_uniform](https://www.tensorflow.org/api_docs/python/tf/random_uniform)."
   ]
  },
  {
   "cell_type": "code",
   "execution_count": 19,
   "metadata": {
    "collapsed": true
   },
   "outputs": [],
   "source": [
    "n_vocab = len(int_to_vocab)\n",
    "n_embedding = 200 # Number of embedding features \n",
    "with train_graph.as_default():\n",
    "    embedding = tf.Variable(tf.random_uniform((n_vocab, n_embedding), -1, 1))\n",
    "    embed = tf.nn.embedding_lookup(embedding, inputs)"
   ]
  },
  {
   "cell_type": "markdown",
   "metadata": {},
   "source": [
    "## Negative sampling\n",
    "\n"
   ]
  },
  {
   "cell_type": "markdown",
   "metadata": {},
   "source": [
    "For every example we give the network, we train it using the output from the softmax layer. That means for each input, we're making very small changes to millions of weights even though we only have one true example. This makes training the network very inefficient. We can approximate the loss from the softmax layer by only updating a small subset of all the weights at once. We'll update the weights for the correct label, but only a small number of incorrect labels. This is called [\"negative sampling\"](http://papers.nips.cc/paper/5021-distributed-representations-of-words-and-phrases-and-their-compositionality.pdf). Tensorflow has a convenient function to do this, [`tf.nn.sampled_softmax_loss`](https://www.tensorflow.org/api_docs/python/tf/nn/sampled_softmax_loss).\n",
    "\n",
    "> **Exercise:** Below, create weights and biases for the softmax layer. Then, use [`tf.nn.sampled_softmax_loss`](https://www.tensorflow.org/api_docs/python/tf/nn/sampled_softmax_loss) to calculate the loss. Be sure to read the documentation to figure out how it works."
   ]
  },
  {
   "cell_type": "code",
   "execution_count": 20,
   "metadata": {
    "collapsed": true
   },
   "outputs": [],
   "source": [
    "# Number of negative labels to sample\n",
    "n_sampled = 100\n",
    "with train_graph.as_default():\n",
    "    softmax_w = tf.Variable(tf.truncated_normal((n_vocab, n_embedding), stddev=0.1))\n",
    "    softmax_b = tf.Variable(tf.zeros(n_vocab))\n",
    "    \n",
    "    # Calculate the loss using negative sampling\n",
    "    loss = tf.nn.sampled_softmax_loss(softmax_w, softmax_b, \n",
    "                                      labels, embed,\n",
    "                                      n_sampled, n_vocab)\n",
    "    \n",
    "    cost = tf.reduce_mean(loss)\n",
    "    optimizer = tf.train.AdamOptimizer().minimize(cost)"
   ]
  },
  {
   "cell_type": "markdown",
   "metadata": {},
   "source": [
    "## Validation\n",
    "\n",
    "This code is from Thushan Ganegedara's implementation. Here we're going to choose a few common words and few uncommon words. Then, we'll print out the closest words to them. It's a nice way to check that our embedding table is grouping together words with similar semantic meanings."
   ]
  },
  {
   "cell_type": "code",
   "execution_count": 21,
   "metadata": {},
   "outputs": [
    {
     "data": {
      "text/plain": [
       "[7, 8, 1, 9]"
      ]
     },
     "execution_count": 21,
     "metadata": {},
     "output_type": "execute_result"
    }
   ],
   "source": [
    "random.sample(range(10),4)"
   ]
  },
  {
   "cell_type": "code",
   "execution_count": 22,
   "metadata": {
    "collapsed": true
   },
   "outputs": [],
   "source": [
    "with train_graph.as_default():\n",
    "    ## From Thushan Ganegedara's implementation\n",
    "    valid_size = 16 # Random set of words to evaluate similarity on.\n",
    "    valid_window = 100\n",
    "    # pick 8 samples from (0,100) and (1000,1100) each ranges. lower id implies more frequent \n",
    "    valid_examples = np.array(random.sample(range(valid_window), valid_size//2))\n",
    "    valid_examples = np.append(valid_examples, \n",
    "                               random.sample(range(1000,1000+valid_window), valid_size//2))\n",
    "    # add our special terms here\n",
    "    valid_examples = np.append(valid_examples,benefits_terms_ints)\n",
    "    valid_examples = np.append(valid_examples,non_benefits_terms_ints)\n",
    "    valid_examples = np.append(valid_examples,my_terms_ints)\n",
    "    \n",
    "    valid_size = valid_size + len(benefits_terms_ints) + len(non_benefits_terms_ints) + len(my_terms_ints)\n",
    "    valid_dataset = tf.constant(valid_examples, dtype=tf.int32)\n",
    "    \n",
    "    # We use the cosine distance:\n",
    "    norm = tf.sqrt(tf.reduce_sum(tf.square(embedding), 1, keep_dims=True))\n",
    "    normalized_embedding = embedding / norm\n",
    "    valid_embedding = tf.nn.embedding_lookup(normalized_embedding, valid_dataset)\n",
    "    similarity = tf.matmul(valid_embedding, tf.transpose(normalized_embedding))"
   ]
  },
  {
   "cell_type": "code",
   "execution_count": null,
   "metadata": {},
   "outputs": [
    {
     "name": "stdout",
     "output_type": "stream",
     "text": [
      "mkdir: checkpoints: File exists\r\n"
     ]
    }
   ],
   "source": [
    "# If the checkpoints directory doesn't exist:\n",
    "!mkdir checkpoints"
   ]
  },
  {
   "cell_type": "code",
   "execution_count": null,
   "metadata": {
    "scrolled": false
   },
   "outputs": [
    {
     "name": "stdout",
     "output_type": "stream",
     "text": [
      "Epoch 1/10 Iteration: 100 Avg. Training loss: 5.7592 0.2417 sec/batch\n",
      "Epoch 1/10 Iteration: 200 Avg. Training loss: 5.7977 0.2436 sec/batch\n",
      "Epoch 1/10 Iteration: 300 Avg. Training loss: 5.6874 0.2360 sec/batch\n",
      "Epoch 1/10 Iteration: 400 Avg. Training loss: 5.6736 0.2430 sec/batch\n",
      "Epoch 1/10 Iteration: 500 Avg. Training loss: 5.6177 0.2360 sec/batch\n",
      "Epoch 1/10 Iteration: 600 Avg. Training loss: 5.6148 0.2299 sec/batch\n",
      "Epoch 1/10 Iteration: 700 Avg. Training loss: 5.5094 0.2336 sec/batch\n",
      "Epoch 1/10 Iteration: 800 Avg. Training loss: 5.4329 0.2386 sec/batch\n",
      "Epoch 1/10 Iteration: 900 Avg. Training loss: 5.3520 0.2500 sec/batch\n",
      "Epoch 1/10 Iteration: 1000 Avg. Training loss: 5.2381 0.2498 sec/batch\n",
      "Nearest to <PERIOD>: apple, it, 😕, condolences, do/ask, UNITED, tainted, substitute”,\n",
      "Nearest to it: High, Umm, <PERIOD>, indictments, sneak, pertinent, systems', miller,\n",
      "Nearest to If: commissions, Conspiracy, aesthetics, Seducer, ksoogifs, Barry, stang, Hahahahahahaha,\n",
      "Nearest to me: 'kilig', evaluated, <QUOTATION_MARK>, interferen…, hikes, message, 100%, trailer,\n",
      "Nearest to from: “laughed, lik, cells, dopest, blond, Marx, Response, PSA,\n",
      "Nearest to by: person, ONCE, quick, checked, FT, ATHLETE, yeh, schools,\n",
      "Nearest to our: *coughs*, CUSTODY, TAEHYUNG'S, Asiimov, preparing, Law‼️We're, SBLI, poor…,\n",
      "Nearest to need: original, $4, severity, actor…, Naku, WINNERS, Surprise, fanart,\n",
      "Nearest to x: golds, Anas, spanish, 5⭐️, tax, visualization, graduate, acres,\n",
      "Nearest to songs: cooked, stole, outsourcing, Boy, Ravage, SATURDAY, fraudulent, F***,\n",
      "Nearest to fire: hoeing, local, disasters, Pep, naps, sweep, referenced, Bathabile,\n",
      "Nearest to Was: Islamism, Congrats, officials, disproportionate, leap, Pfc, feelings…, 1957,\n",
      "Nearest to Game: xan, CHUCK…, Starve, vapp, BIGBANG, pondering, t-shirts, gaga,\n",
      "Nearest to whatever: fossil, 🐳, MOVIES, WOULD, receptionist, -the, Roxy, Progressives,\n",
      "Nearest to concert: Latin, Ministers, Toledo, redemption, Hashtags, Rad, request, nuances,\n",
      "Nearest to campaign: 263, abroad, checking, EVENTS, Ballroom, holy, much💕, Edward,\n",
      "Nearest to insurance: yoi, Hyatt, addi…, orphaned, Witness, deciding, sociopathic, Niggaz,\n",
      "Nearest to maximum: Auckland, blowing, nearest, Schools, sights, Shielding, Edited, kenta,\n",
      "Nearest to claim: saf…, Medal, IMMIGRANTS, Blows, NATO, sweater, Ka…, old,\n",
      "Nearest to claims: brave, [YOUTUBE], binged, 🤷🏾‍♀️, overrr, Rodin, this♦️, attached,\n",
      "Nearest to policy: Greed, Purposely, 😈😈😈, FOR, teas, film…, Mar, muc…,\n",
      "Nearest to dime: wealth, cosplay, jest, CAUGHT, we’ll, doNT, yun, interview…,\n",
      "Nearest to D1: Slut, family, MSM, Stockton, Barbados, CAN…, I-95, Minnesotans,\n",
      "Nearest to man: kills, this♦️, Coachella, 20's, *RT, children’, Viewed, Leave,\n",
      "Nearest to woman: consideration, 1-1, mobilizing, Santana, Touring, Malcom, Florida's, fitness,\n",
      "Nearest to cat: indoors, MOUTH, giveaways, culpability, CSK, them, Rajnath, Retweet🌍✅,\n",
      "Nearest to dog: deal', Thurman, Efe, -Rt, Unit, La…, year…, Blu-ray,\n",
      "Nearest to injury: vultures, Leave, bo2, Psychological, 👏🏾👏🏾, Lovelies, nagseselos, skank,\n",
      "Nearest to compensation: belasah, dangles, evalua…, INNOCENT, navy, Marian, prouder, INA,\n",
      "Nearest to worker: *votes, %, Confusion, churning, thrive, shatta, motherfuckers, midterm,\n",
      "Nearest to workers: determina…, Slammed, 1&gt, Cluster, opting, Presently, Statements, tasting,\n",
      "Epoch 1/10 Iteration: 1100 Avg. Training loss: 5.1250 0.2470 sec/batch\n",
      "Epoch 1/10 Iteration: 1200 Avg. Training loss: 5.0042 0.2402 sec/batch\n",
      "Epoch 1/10 Iteration: 1300 Avg. Training loss: 4.9184 0.2411 sec/batch\n",
      "Epoch 1/10 Iteration: 1400 Avg. Training loss: 4.8409 0.2380 sec/batch\n",
      "Epoch 1/10 Iteration: 1500 Avg. Training loss: 4.7908 0.2380 sec/batch\n",
      "Epoch 1/10 Iteration: 1600 Avg. Training loss: 4.7649 0.2437 sec/batch\n",
      "Epoch 1/10 Iteration: 1700 Avg. Training loss: 4.6893 0.2408 sec/batch\n",
      "Epoch 1/10 Iteration: 1800 Avg. Training loss: 4.6458 0.2400 sec/batch\n",
      "Epoch 1/10 Iteration: 1900 Avg. Training loss: 4.6364 0.2417 sec/batch\n",
      "Epoch 1/10 Iteration: 2000 Avg. Training loss: 4.5662 0.2428 sec/batch\n",
      "Nearest to <PERIOD>: PANTHER, UNITED, apple, I'…, condolences, negative, lawyers, 😕,\n",
      "Nearest to it: Umm, sneak, indictments, Butt, ️🔥, sooner, miller, chocolate,\n",
      "Nearest to If: Conspiracy, aesthetics, commissions, empathy, ksoogifs, actual, exciting, HOTTEST🔥🔥🔥,\n",
      "Nearest to me: 'kilig', interferen…, evaluated, trailer, hikes, NCAA, regulations, brazil,\n",
      "Nearest to from: lik, “laughed, dopest, blond, cells, speeds, Response, Marx,\n",
      "Nearest to by: ONCE, FT, ️🔥, mine…, 9th, yeh, Rocky, Bit,\n",
      "Nearest to our: CUSTODY, *coughs*, preparing, Asiimov, SBLI, early, TAEHYUNG'S, year's,\n",
      "Nearest to need: original, $4, severity, cutting, Strong…, Surprise, nintendo, fanart,\n",
      "Nearest to x: golds, Anas, spanish, graduate, tax, acres, requesting, visualization,\n",
      "Nearest to songs: stole, cooked, Boy, sharing, fractured, lies, fraudulent, Muller,\n",
      "Nearest to fire: local, naps, hoeing, Afro, sweep, color, Pep, ripped,\n",
      "Nearest to Was: Congrats, Islamism, officials, leap, crowded, house, disproportionate, takeout,\n",
      "Nearest to Game: Starve, xan, Isn’t, CHUCK…, BIGBANG, t-shirts, believ…, pondering,\n",
      "Nearest to whatever: fossil, 🐳, WOULD, MOVIES, News, posts, -the, ⚡,\n",
      "Nearest to concert: Latin, redemption, Toledo, Ministers, Hashtags, Ohio, but, Rad,\n",
      "Nearest to campaign: 263, abroad, checking, 💜, EVENTS, Ballroom, Edward, handjob,\n",
      "Nearest to insurance: yoi, addi…, orphaned, deciding, Hyatt, 7pm, au, Niggaz,\n",
      "Nearest to maximum: blowing, Auckland, nearest, Schools, sights, Shielding, CRAZY, kenta,\n",
      "Nearest to claim: old, Medal, sweater, NATO, 🤞🏾, followed, saf…, that's,\n",
      "Nearest to claims: brave, 🤷🏾‍♀️, [YOUTUBE], binged, attached, this♦️, astronaut, art,\n",
      "Nearest to policy: Greed, FOR, Purposely, 😈😈😈, teas, film…, released, Mar,\n",
      "Nearest to dime: wealth, cosplay, we’ll, jest, emp…, embraced, yun, collapsed,\n",
      "Nearest to D1: Slut, family, MSM, Stockton, Feel, Barbados, aide, Stout,\n",
      "Nearest to man: kills, Leave, children’, Coachella, *RT, this♦️, Viewed, 20's,\n",
      "Nearest to woman: 1-1, consideration, business, Karen, mobilizing, Brain, fitness, buckle,\n",
      "Nearest to cat: indoors, giveaways, them, within, MOUTH, seek, 👊🏼, state,\n",
      "Nearest to dog: deal', huge, year…, Unit, Efe, tubes, La…, pumped,\n",
      "Nearest to injury: Leave, bo2, Here's, Iowa, vultures, Psychological, pause, retards,\n",
      "Nearest to compensation: dangles, evalua…, navy, belasah, INNOCENT, prouder, INA, Marian,\n",
      "Nearest to worker: *votes, %, midterm, body, thrive, Agreed, hides, motherfuckers,\n",
      "Nearest to workers: Slammed, 1&gt, determina…, smol, Cluster, Presently, Statements, opting,\n",
      "Epoch 1/10 Iteration: 2100 Avg. Training loss: 4.6189 0.2463 sec/batch\n",
      "Epoch 1/10 Iteration: 2200 Avg. Training loss: 4.5992 0.2377 sec/batch\n",
      "Epoch 1/10 Iteration: 2300 Avg. Training loss: 4.6185 0.2419 sec/batch\n",
      "Epoch 1/10 Iteration: 2400 Avg. Training loss: 4.5865 0.2437 sec/batch\n",
      "Epoch 1/10 Iteration: 2500 Avg. Training loss: 4.5886 0.2380 sec/batch\n",
      "Epoch 1/10 Iteration: 2600 Avg. Training loss: 4.5518 0.2416 sec/batch\n",
      "Epoch 1/10 Iteration: 2700 Avg. Training loss: 4.5227 0.2434 sec/batch\n",
      "Epoch 1/10 Iteration: 2800 Avg. Training loss: 4.5324 0.2441 sec/batch\n",
      "Epoch 1/10 Iteration: 2900 Avg. Training loss: 4.5330 0.2455 sec/batch\n",
      "Epoch 1/10 Iteration: 3000 Avg. Training loss: 4.5406 0.2409 sec/batch\n",
      "Nearest to <PERIOD>: PANTHER, lawyers, I'…, night”, UNITED, tainted, clickbait, do/ask,\n",
      "Nearest to it: Butt, Umm, ️🔥, indictments, sooner, sneak, Goblet, vape,\n",
      "Nearest to If: Conspiracy, aesthetics, ksoogifs, commissions, empathy, Shipyard, Hahahahahahaha, Seducer,\n",
      "Nearest to me: 'kilig', trailer, interferen…, hikes, evaluated, brazil, NCAA, Goose,\n",
      "Nearest to from: lik, dopest, “laughed, blond, who'll, speeds, Open, Response,\n",
      "Nearest to by: ONCE, perpetrators, mine…, Hosted, ️🔥, Ma, 9th, Bit,\n",
      "Nearest to our: CUSTODY, *coughs*, TAEHYUNG'S, 💊, Asiimov, Law‼️We're, 💁🏽‍♀️, SBLI,\n",
      "Nearest to need: original, $4, severity, Strong…, hurdle, nintendo, actor…, playboy,\n",
      "Nearest to x: golds, Anas, spanish, acres, 5⭐️, visualization, grope, graduate,\n",
      "Nearest to songs: cooked, stole, Boy, fraudulent, fractured, 24m, Muller, smil…,\n",
      "Nearest to fire: local, hoeing, naps, Pep, sweep, 🤧🤧, struck, color,\n",
      "Nearest to Was: Congrats, leap, Islamism, disproportionate, takeout, 🦇, 1verse, officials,\n",
      "Nearest to Game: xan, Starve, CHUCK…, Isn’t, Criticizing, believ…, vapp, pondering,\n",
      "Nearest to whatever: fossil, 🐳, WOULD, Progressives, MOVIES, News, posts, ⚡,\n",
      "Nearest to concert: Latin, redemption, Ministers, Toledo, Rad, Hashtags, Ohio, nuances,\n",
      "Nearest to campaign: 263, EVENTS, Ballroom, handjob, checking, Edward, PRESS, abroad,\n",
      "Nearest to insurance: yoi, addi…, Hyatt, deciding, sociopathic, orphaned, 😱😱, scientists,\n",
      "Nearest to maximum: blowing, Auckland, nearest, Schools, sights, kenta, Shielding, economy,\n",
      "Nearest to claim: Medal, old, saf…, NATO, Blows, 🤞🏾, sweater, butterfly,\n",
      "Nearest to claims: brave, [YOUTUBE], binged, 🤷🏾‍♀️, astronaut, this♦️, overrr, attached,\n",
      "Nearest to policy: Greed, Purposely, FOR, 😈😈😈, teas, end…, released, beauties,\n",
      "Nearest to dime: wealth, cosplay, we’ll, jest, emp…, yun, embraced, BT21,\n",
      "Nearest to D1: Slut, family, Alyssa, MSM, Stockton, aide, CAN…, he’d,\n",
      "Nearest to man: kills, Coachella, children’, 20's, Leave, Viewed, *RT, baek,\n",
      "Nearest to woman: Santana, consideration, 1-1, mobilizing, Karen, fitness, buckle, Touring,\n",
      "Nearest to cat: indoors, giveaways, MOUTH, within, them, cougar, culpability, CSK,\n",
      "Nearest to dog: deal', La…, Thurman, Unit, Blu-ray, year…, huge, -Rt,\n",
      "Nearest to injury: Leave, bo2, retards, Here's, vultures, Psychological, 👏🏾👏🏾, pause,\n",
      "Nearest to compensation: belasah, navy, INNOCENT, Marian, INA, dangles, Stone, prouder,\n",
      "Nearest to worker: *votes, %, Agreed, Confusion, hides, thrive, javi's, midterm,\n",
      "Nearest to workers: Slammed, tasting, CHEATING, determina…, Cluster, Presently, bangtan, 1&gt,\n"
     ]
    },
    {
     "name": "stdout",
     "output_type": "stream",
     "text": [
      "Epoch 1/10 Iteration: 3100 Avg. Training loss: 4.5455 0.2448 sec/batch\n",
      "Epoch 1/10 Iteration: 3200 Avg. Training loss: 4.5145 0.2402 sec/batch\n",
      "Epoch 1/10 Iteration: 3300 Avg. Training loss: 4.5177 0.2425 sec/batch\n",
      "Epoch 1/10 Iteration: 3400 Avg. Training loss: 4.4822 0.2363 sec/batch\n",
      "Epoch 1/10 Iteration: 3500 Avg. Training loss: 4.4965 0.2409 sec/batch\n",
      "Epoch 1/10 Iteration: 3600 Avg. Training loss: 4.4757 0.2458 sec/batch\n",
      "Epoch 1/10 Iteration: 3700 Avg. Training loss: 4.4863 0.2399 sec/batch\n",
      "Epoch 1/10 Iteration: 3800 Avg. Training loss: 4.4836 0.2336 sec/batch\n",
      "Epoch 1/10 Iteration: 3900 Avg. Training loss: 4.4499 0.2410 sec/batch\n",
      "Epoch 1/10 Iteration: 4000 Avg. Training loss: 4.5034 0.2377 sec/batch\n",
      "Nearest to <PERIOD>: night”, PANTHER, tainted, unreal, Breast, inconsistent, Kee…, oatmeal,\n",
      "Nearest to it: Butt, Umm, ️🔥, indictments, sneak, sooner, Chastain, Goblet,\n",
      "Nearest to If: Conspiracy, aesthetics, ksoogifs, Shipyard, empathy, Seducer, Soohorang, commissions,\n",
      "Nearest to me: hikes, 1960s, Goose, 'kilig', Vanessa, evaluated, NCAA, interferen…,\n",
      "Nearest to from: lik, “laughed, dopest, blond, who'll, speeds, banker, Marx,\n",
      "Nearest to by: ONCE, mine…, perpetrators, Ma, Hosted, 9th, ATHLETE, judg…,\n",
      "Nearest to our: *coughs*, CUSTODY, TAEHYUNG'S, 💊, Show', Law‼️We're, 💁🏽‍♀️, graders,\n",
      "Nearest to need: original, $4, Strong…, SENSE, memorial, hurdle, playboy, actor…,\n",
      "Nearest to x: Anas, golds, 5⭐️, grope, spanish, acres, visualization, graduate,\n",
      "Nearest to songs: cooked, Boy, stole, fraudulent, rockets, 24m, Goals, Upadhy…,\n",
      "Nearest to fire: local, hoeing, naps, Pep, sweep, Bathabile, 🤧🤧, struck,\n",
      "Nearest to Was: disproportionate, Congrats, Relaxing, verifying, 🦇, 1verse, revoking, COMMENTS,\n",
      "Nearest to Game: Starve, xan, CHUCK…, t-shirts, Isn’t, invading, believ…, Criticizing,\n",
      "Nearest to whatever: WOULD, 🐳, fossil, Progressives, receptionist, MOVIES, Roxy, News,\n",
      "Nearest to concert: Latin, Rad, Ministers, Toledo, redemption, Ohio, Hashtags, Deeply,\n",
      "Nearest to campaign: 263, EVENTS, much💕, Ballroom, handjob, PRESS, Edward, abroad,\n",
      "Nearest to insurance: yoi, addi…, Hyatt, deciding, sociopathic, 😱😱, orphaned, Niggaz,\n",
      "Nearest to maximum: blowing, Auckland, nearest, Schools, sights, kenta, Shielding, tornado,\n",
      "Nearest to claim: saf…, old, Medal, NATO, Blows, sweater, 🤞🏾, butterfly,\n",
      "Nearest to claims: brave, [YOUTUBE], this♦️, astronaut, 🤷🏾‍♀️, Rodin, binged, overrr,\n",
      "Nearest to policy: Greed, Purposely, 😈😈😈, end…, teas, OWNS, FOR, released,\n",
      "Nearest to dime: wealth, cosplay, jest, we’ll, yun, emp…, embraced, BT21,\n",
      "Nearest to D1: Slut, Stockton, Alyssa, mindful, MSM, CAN…, aide, walkin,\n",
      "Nearest to man: Coachella, kills, 20's, Viewed, children’, projecting, Leave, fixtures,\n",
      "Nearest to woman: Santana, consideration, 1-1, Touring, mobilizing, Karen, Florida's, Malcom,\n",
      "Nearest to cat: MOUTH, within, giveaways, indoors, culpability, CSK, 201, Retweet🌍✅,\n",
      "Nearest to dog: deal', La…, Thurman, Blu-ray, Unit, year…, -Rt, Efe,\n",
      "Nearest to injury: vultures, bo2, Leave, retards, Here's, Psychological, alllllllll, FALLING,\n",
      "Nearest to compensation: belasah, navy, dangles, INNOCENT, INA, Marian, 209, prouder,\n",
      "Nearest to worker: *votes, %, hides, Confusion, Agreed, javi's, churning, midterm,\n",
      "Nearest to workers: tasting, Slammed, Cluster, determina…, CHEATING, 1&gt, Presently, bangtan,\n",
      "Epoch 1/10 Iteration: 4100 Avg. Training loss: 4.4492 0.2428 sec/batch\n",
      "Epoch 1/10 Iteration: 4200 Avg. Training loss: 4.4510 0.2343 sec/batch\n",
      "Epoch 1/10 Iteration: 4300 Avg. Training loss: 4.4406 0.2466 sec/batch\n",
      "Epoch 1/10 Iteration: 4400 Avg. Training loss: 4.4585 0.2408 sec/batch\n",
      "Epoch 1/10 Iteration: 4500 Avg. Training loss: 4.4616 0.2487 sec/batch\n",
      "Epoch 1/10 Iteration: 4600 Avg. Training loss: 4.4443 0.2376 sec/batch\n",
      "Epoch 1/10 Iteration: 4700 Avg. Training loss: 4.4105 0.2389 sec/batch\n",
      "Epoch 1/10 Iteration: 4800 Avg. Training loss: 4.3898 0.2413 sec/batch\n",
      "Epoch 1/10 Iteration: 4900 Avg. Training loss: 4.3853 0.2466 sec/batch\n",
      "Epoch 1/10 Iteration: 5000 Avg. Training loss: 4.3910 0.2433 sec/batch\n",
      "Nearest to <PERIOD>: night”, unreal, Breast, oatmeal, Kee…, tainted, primal, inconsistent,\n",
      "Nearest to it: Butt, Umm, ️🔥, indictments, sneak, stamina, sooner, tucking,\n",
      "Nearest to If: Conspiracy, ksoogifs, aesthetics, Seducer, Shipyard, Soohorang, polo, commissions,\n",
      "Nearest to me: hikes, 1960s, Vanessa, Goose, evaluated, Gardening, NCAA, 'kilig',\n",
      "Nearest to from: “laughed, lik, dopest, who'll, blond, speeds, banker, Marx,\n",
      "Nearest to by: ONCE, mine…, perpetrators, Hosted, Ma, ATHLETE, judg…, ️🔥,\n",
      "Nearest to our: *coughs*, CUSTODY, TAEHYUNG'S, Show', 💊, 💁🏽‍♀️, Law‼️We're, graders,\n",
      "Nearest to need: original, $4, SENSE, hurdle, Strong…, actor…, memorial, severity,\n",
      "Nearest to x: Anas, golds, spanish, 5⭐️, grope, Rohn, acres, visualization,\n",
      "Nearest to songs: cooked, Boy, stole, fraudulent, Ravage, Reds, recruits, 24m,\n",
      "Nearest to fire: hoeing, local, naps, Pep, Bathabile, sweep, 🤧🤧, melancholy,\n",
      "Nearest to Was: Relaxing, verifying, disproportionate, Congrats, revoking, 1verse, 🦇, COMMENTS,\n",
      "Nearest to Game: Starve, xan, CHUCK…, t-shirts, Criticizing, invading, pondering, believ…,\n",
      "Nearest to whatever: WOULD, 🐳, fossil, MOVIES, Progressives, Roxy, receptionist, News,\n",
      "Nearest to concert: Latin, Toledo, Rad, redemption, Ohio, Ministers, tweak, Deeply,\n",
      "Nearest to campaign: 263, much💕, EVENTS, Ballroom, speculation, PRESS, abroad, Edward,\n",
      "Nearest to insurance: yoi, Hyatt, addi…, deciding, orphaned, sociopathic, 😱😱, scientists,\n",
      "Nearest to maximum: blowing, nearest, Auckland, Schools, sights, Shielding, kenta, P,\n",
      "Nearest to claim: saf…, old, Medal, butterfly, NATO, 🤞🏾, Blows, followed,\n",
      "Nearest to claims: brave, this♦️, [YOUTUBE], astronaut, 🤷🏾‍♀️, Rodin, art, compet…,\n",
      "Nearest to policy: Greed, Purposely, teas, 😈😈😈, end…, hit…, released, OWNS,\n",
      "Nearest to dime: wealth, cosplay, jest, we’ll, yun, emp…, embraced, this🎨✅,\n",
      "Nearest to D1: Slut, Stockton, Alyssa, walkin, mindful, CAN…, aide, MSM,\n",
      "Nearest to man: Coachella, kills, 20's, Viewed, children’, Leave, projecting, intriguing,\n",
      "Nearest to woman: consideration, Santana, 1-1, expects, mobilizing, Touring, broom, fitness,\n",
      "Nearest to cat: MOUTH, culpability, CSK, giveaways, indoors, within, SO…, Retweet🌍✅,\n",
      "Nearest to dog: deal', La…, Thurman, Blu-ray, -Rt, year…, Efe, showings,\n",
      "Nearest to injury: vultures, bo2, Leave, Here's, retards, Psychological, ALDUB, alllllllll,\n",
      "Nearest to compensation: navy, belasah, dangles, Marian, INNOCENT, INA, 209, chose,\n",
      "Nearest to worker: *votes, hides, %, churning, Confusion, Agreed, ambulance, alpha,\n",
      "Nearest to workers: tasting, Slammed, Cluster, CHEATING, determina…, bangtan, Relaxation, 1&gt,\n",
      "Epoch 1/10 Iteration: 5100 Avg. Training loss: 4.3666 0.2532 sec/batch\n",
      "Epoch 1/10 Iteration: 5200 Avg. Training loss: 4.3628 0.2394 sec/batch\n",
      "Epoch 1/10 Iteration: 5300 Avg. Training loss: 4.3764 0.2430 sec/batch\n",
      "Epoch 1/10 Iteration: 5400 Avg. Training loss: 4.3820 0.2549 sec/batch\n",
      "Epoch 1/10 Iteration: 5500 Avg. Training loss: 4.4003 0.2522 sec/batch\n",
      "Epoch 1/10 Iteration: 5600 Avg. Training loss: 4.3561 0.2500 sec/batch\n",
      "Epoch 1/10 Iteration: 5700 Avg. Training loss: 4.3781 0.2478 sec/batch\n",
      "Epoch 1/10 Iteration: 5800 Avg. Training loss: 4.3550 0.2483 sec/batch\n",
      "Epoch 1/10 Iteration: 5900 Avg. Training loss: 4.3575 0.2466 sec/batch\n",
      "Epoch 1/10 Iteration: 6000 Avg. Training loss: 4.3604 0.2556 sec/batch\n",
      "Nearest to <PERIOD>: Kee…, oatmeal, searchs, —NY, night”, unreal, inconsistent, earnest,\n",
      "Nearest to it: Butt, ️🔥, Umm, sneak, stamina, sooner, Chastain, T8,\n",
      "Nearest to If: Conspiracy, ksoogifs, Shipyard, aesthetics, polo, ARRESTED, Seducer, commissions,\n",
      "Nearest to me: hikes, 1960s, Vanessa, evaluated, Gardening, Goose, 'kilig', interferen…,\n",
      "Nearest to from: lik, “laughed, blond, dopest, who'll, Marx, banker, speeds,\n",
      "Nearest to by: mine…, ATHLETE, ONCE, judg…, ️🔥, perpetrators, Ma, ilhoon,\n",
      "Nearest to our: TAEHYUNG'S, *coughs*, CUSTODY, Show', 💊, sympathize, Child’s, Law‼️We're,\n",
      "Nearest to need: original, $4, hurdle, SENSE, severity, Strong…, actor…, memorial,\n",
      "Nearest to x: golds, Anas, spanish, grope, 5⭐️, Rohn, acres, requesting,\n",
      "Nearest to songs: Boy, cooked, stole, fraudulent, prestigious, Ravage, recruits, Reds,\n",
      "Nearest to fire: hoeing, local, naps, Pep, sweep, 🤧🤧, Bathabile, disasters,\n",
      "Nearest to Was: Relaxing, verifying, disproportionate, Congrats, 1verse, 🦇, Petrol, relaunch,\n",
      "Nearest to Game: xan, Starve, CHUCK…, invading, t-shirts, Criticizing, Wallahi, pondering,\n",
      "Nearest to whatever: 🐳, WOULD, fossil, Roxy, Progressives, MOVIES, receptionist, ⚡,\n",
      "Nearest to concert: Rad, Toledo, Latin, redemption, tweak, Ministers, Ohio, suggestion,\n",
      "Nearest to campaign: 263, much💕, EVENTS, Ballroom, handjob, speculation, Edward, abroad,\n",
      "Nearest to insurance: yoi, Hyatt, addi…, deciding, 😱😱, orphaned, 7pm, Niggaz,\n",
      "Nearest to maximum: blowing, Schools, Auckland, nearest, Shielding, sights, P, Xena,\n",
      "Nearest to claim: old, saf…, Medal, butterfly, Blows, followed, NATO, Ka…,\n",
      "Nearest to claims: brave, this♦️, [YOUTUBE], astronaut, 🤷🏾‍♀️, art, Rodin, 7m,\n",
      "Nearest to policy: Greed, Purposely, 😈😈😈, end…, OWNS, teas, hit…, released,\n",
      "Nearest to dime: wealth, cosplay, we’ll, yun, jest, embraced, collapsed, this🎨✅,\n",
      "Nearest to D1: Slut, Stockton, aide, MSM, Alyssa, walkin, mindful, I-95,\n",
      "Nearest to man: Coachella, 20's, kills, children’, intriguing, self-care, projecting, Leave,\n",
      "Nearest to woman: consideration, Santana, 1-1, 💃🏻🕺🏻😍😍😍, expects, buckle, volley, mobilizing,\n",
      "Nearest to cat: culpability, giveaways, within, MOUTH, SO…, 201, hacking, indoors,\n",
      "Nearest to dog: deal', Thurman, La…, Blu-ray, -Rt, year…, showings, printing,\n",
      "Nearest to injury: bo2, Here's, retards, vultures, Leave, ALDUB, Psychological, Foreigners,\n",
      "Nearest to compensation: navy, belasah, INNOCENT, Marian, dangles, INA, Statues, cloths,\n",
      "Nearest to worker: *votes, %, Confusion, hides, churning, sally, alpha, motherfuckers,\n",
      "Nearest to workers: khubur, tasting, determina…, Slammed, Relaxation, 1&gt, Cluster, dea…,\n"
     ]
    },
    {
     "name": "stdout",
     "output_type": "stream",
     "text": [
      "Epoch 1/10 Iteration: 6100 Avg. Training loss: 4.3328 0.2543 sec/batch\n",
      "Epoch 1/10 Iteration: 6200 Avg. Training loss: 4.3622 0.2450 sec/batch\n",
      "Epoch 1/10 Iteration: 6300 Avg. Training loss: 4.3639 0.2412 sec/batch\n",
      "Epoch 1/10 Iteration: 6400 Avg. Training loss: 4.3633 0.2470 sec/batch\n",
      "Epoch 1/10 Iteration: 6500 Avg. Training loss: 4.3591 0.2403 sec/batch\n",
      "Epoch 1/10 Iteration: 6600 Avg. Training loss: 4.3153 0.2410 sec/batch\n",
      "Epoch 1/10 Iteration: 6700 Avg. Training loss: 4.3429 0.2414 sec/batch\n",
      "Epoch 1/10 Iteration: 6800 Avg. Training loss: 4.3100 0.2369 sec/batch\n",
      "Epoch 1/10 Iteration: 6900 Avg. Training loss: 4.2934 0.2422 sec/batch\n",
      "Epoch 1/10 Iteration: 7000 Avg. Training loss: 4.3006 0.2352 sec/batch\n",
      "Nearest to <PERIOD>: Kee…, oatmeal, Breast, —NY, version, searchs, night”, Matt,\n",
      "Nearest to it: Butt, ️🔥, sneak, Chastain, sooner, keto, stamina, Header,\n",
      "Nearest to If: Conspiracy, ksoogifs, polo, Shipyard, Seducer, ARRESTED, commissions, exciting,\n",
      "Nearest to me: hikes, 1960s, interferen…, fucking…, Gardening, evaluated, Vanessa, supposedly,\n",
      "Nearest to from: blond, lik, “laughed, Marx, dopest, who'll, walking…, banker,\n",
      "Nearest to by: judg…, ilhoon, mine…, accoun…, perpetrators, checked, FT, ATHLETE,\n",
      "Nearest to our: 💊, TAEHYUNG'S, Show', *coughs*, CUSTODY, sympathize, partake, 💁🏽‍♀️,\n",
      "Nearest to need: original, hurdle, $4, SINGAPORE, memorial, Strong…, severity, SENSE,\n",
      "Nearest to x: golds, Anas, Rohn, spanish, grope, Sunggyu, requesting, acres,\n",
      "Nearest to songs: Boy, cooked, stole, prestigious, Reds, fraudulent, Ravage, Pyeongchang,\n",
      "Nearest to fire: hoeing, naps, local, sweep, disasters, Pep, Edinson, take…,\n",
      "Nearest to Was: Relaxing, verifying, disproportionate, 1verse, relaunch, revoking, Congrats, just,\n",
      "Nearest to Game: xan, Starve, CHUCK…, Wallahi, believ…, invading, exquisite, Criticizing,\n",
      "Nearest to whatever: 🐳, WOULD, Progressives, Roxy, cor…, receptionist, fossil, Carlisle,\n",
      "Nearest to concert: Rad, redemption, Toledo, suggestion, tweak, Hashtags, Deeply, Latin,\n",
      "Nearest to campaign: 263, much💕, EVENTS, Ballroom, handjob, PRESS, horizons, speculation,\n",
      "Nearest to insurance: yoi, Hyatt, addi…, 7pm, deciding, 😱😱, orphaned, Niggaz,\n",
      "Nearest to maximum: blowing, Schools, Shielding, nearest, sights, Slap, P, Auckland,\n",
      "Nearest to claim: old, saf…, Medal, butterfly, Blows, NATO, followed, DISMISS,\n",
      "Nearest to claims: this♦️, [YOUTUBE], brave, astronaut, art, 🤷🏾‍♀️, fact, 7m,\n",
      "Nearest to policy: Greed, Purposely, 😈😈😈, beauties, OWNS, teas, hit…, end…,\n",
      "Nearest to dime: wealth, cosplay, jest, we’ll, yun, embraced, collapsed, Jjong's,\n",
      "Nearest to D1: Slut, Stockton, aide, Alyssa, MSM, walkin, mindful, I-95,\n",
      "Nearest to man: Coachella, 20's, kills, projecting, children’, intriguing, Leave, Viewed,\n",
      "Nearest to woman: consideration, 1-1, Santana, Malcom, expects, 💃🏻🕺🏻😍😍😍, Touring, mobilizing,\n",
      "Nearest to cat: culpability, giveaways, MOUTH, hacking, within, CSK, Placement, 201,\n",
      "Nearest to dog: deal', La…, Thurman, Blu-ray, -Rt, year…, greeks, showings,\n",
      "Nearest to injury: bo2, retards, Here's, Leave, Foreigners, vultures, Psychological, ALDUB,\n",
      "Nearest to compensation: INNOCENT, navy, Marian, belasah, INA, dangles, chose, cloths,\n",
      "Nearest to worker: *votes, %, Confusion, sally, churning, hides, thrive, alpha,\n",
      "Nearest to workers: khubur, tasting, dad’s, determina…, bangtan, Relaxation, Cluster, secare,\n",
      "Epoch 1/10 Iteration: 7100 Avg. Training loss: 4.3148 0.2461 sec/batch\n",
      "Epoch 1/10 Iteration: 7200 Avg. Training loss: 4.2628 0.2442 sec/batch\n",
      "Epoch 1/10 Iteration: 7300 Avg. Training loss: 4.3248 0.2450 sec/batch\n",
      "Epoch 1/10 Iteration: 7400 Avg. Training loss: 4.3293 0.2364 sec/batch\n",
      "Epoch 1/10 Iteration: 7500 Avg. Training loss: 4.3616 0.2406 sec/batch\n",
      "Epoch 1/10 Iteration: 7600 Avg. Training loss: 4.3425 0.2471 sec/batch\n",
      "Epoch 1/10 Iteration: 7700 Avg. Training loss: 4.3577 0.2382 sec/batch\n",
      "Epoch 1/10 Iteration: 7800 Avg. Training loss: 4.3803 0.2298 sec/batch\n",
      "Epoch 1/10 Iteration: 7900 Avg. Training loss: 4.3260 0.2426 sec/batch\n",
      "Epoch 1/10 Iteration: 8000 Avg. Training loss: 4.3030 0.2421 sec/batch\n",
      "Nearest to <PERIOD>: Matt, version, Breast, searchs, —NY, night”, inconsistent, Cruelty,\n",
      "Nearest to it: Butt, sooner, ️🔥, sneak, Chastain, Umm, indictments, Minor,\n",
      "Nearest to If: Conspiracy, polo, ksoogifs, Seducer, Shipyard, commissions, ARRESTED, scooped,\n",
      "Nearest to me: hikes, 1960s, evaluated, interferen…, fucking…, Vanessa, coaching, Goose,\n",
      "Nearest to from: “laughed, Marx, who'll, blond, lik, dopest, walking…, aggravating,\n",
      "Nearest to by: checked, judg…, perpetrators, ilhoon, Mugabe, accoun…, mine…, Hwayugi,\n",
      "Nearest to our: 💊, Show', TAEHYUNG'S, partake, CUSTODY, *coughs*, 💁🏽‍♀️, 🐣,\n",
      "Nearest to need: $4, original, hurdle, memorial, SINGAPORE, WINNERS, 💃, Naku,\n",
      "Nearest to x: golds, Anas, grope, Rohn, spanish, requesting, Sunggyu, visualization,\n",
      "Nearest to songs: Boy, cooked, prestigious, Reds, stole, Pyeongchang, Ravage, polish,\n",
      "Nearest to fire: hoeing, naps, sweep, disasters, local, infiltrated, take…, Pep,\n",
      "Nearest to Was: disproportionate, verifying, Relaxing, relaunch, 1verse, just, revoking, takeout,\n",
      "Nearest to Game: xan, Starve, CHUCK…, Wallahi, invading, exquisite, believ…, candidates…,\n",
      "Nearest to whatever: 🐳, Progressives, WOULD, receptionist, Roxy, fossil, cor…, Carlisle,\n",
      "Nearest to concert: Toledo, Rad, tweak, redemption, Latin, suggestion, Deeply, Hashtags,\n",
      "Nearest to campaign: 263, much💕, Ballroom, handjob, EVENTS, horizons, Toke, cheap,\n",
      "Nearest to insurance: yoi, Hyatt, addi…, 7pm, 😱😱, orphaned, averaging, deciding,\n",
      "Nearest to maximum: blowing, sights, Edited, Slap, P, Shielding, Auckland, nearest,\n",
      "Nearest to claim: old, Medal, saf…, butterfly, NATO, DISMISS, 🙂, followed,\n",
      "Nearest to claims: this♦️, brave, [YOUTUBE], astronaut, art, fact, 🤷🏾‍♀️, 7m,\n",
      "Nearest to policy: Greed, Purposely, beauties, 😈😈😈, teas, OWNS, sticks, end…,\n",
      "Nearest to dime: wealth, cosplay, jest, we’ll, yun, collapsed, embraced, this🎨✅,\n",
      "Nearest to D1: Slut, Stockton, aide, MSM, Alyssa, Spectrum, walkin, mindful,\n",
      "Nearest to man: Coachella, kills, 20's, would’ve, intriguing, children’, Leave, projecting,\n",
      "Nearest to woman: consideration, 1-1, Santana, Malcom, expects, 💃🏻🕺🏻😍😍😍, volley, Touring,\n",
      "Nearest to cat: culpability, hacking, giveaways, CSK, SO…, doesn't, Placement, 201,\n",
      "Nearest to dog: La…, deal', Thurman, year…, showings, -Rt, tinder, Blu-ray,\n",
      "Nearest to injury: bo2, retards, Here's, Leave, vultures, Foreigners, Psychological, ALDUB,\n",
      "Nearest to compensation: Marian, INNOCENT, navy, belasah, Unites, chose, INA, dangles,\n",
      "Nearest to worker: %, hides, Confusion, *votes, sally, shatta, churning, javi's,\n",
      "Nearest to workers: khubur, dad’s, tasting, Cluster, determina…, Relaxation, secare, bangtan,\n",
      "Epoch 1/10 Iteration: 8100 Avg. Training loss: 4.3414 0.2478 sec/batch\n",
      "Epoch 1/10 Iteration: 8200 Avg. Training loss: 4.3146 0.2359 sec/batch\n",
      "Epoch 1/10 Iteration: 8300 Avg. Training loss: 4.3461 0.2414 sec/batch\n",
      "Epoch 1/10 Iteration: 8400 Avg. Training loss: 4.3331 0.2424 sec/batch\n",
      "Epoch 1/10 Iteration: 8500 Avg. Training loss: 4.3329 0.2443 sec/batch\n",
      "Epoch 1/10 Iteration: 8600 Avg. Training loss: 4.3470 0.2435 sec/batch\n",
      "Epoch 1/10 Iteration: 8700 Avg. Training loss: 4.3309 0.2441 sec/batch\n",
      "Epoch 1/10 Iteration: 8800 Avg. Training loss: 4.3443 0.2433 sec/batch\n",
      "Epoch 1/10 Iteration: 8900 Avg. Training loss: 4.4680 0.2398 sec/batch\n",
      "Epoch 1/10 Iteration: 9000 Avg. Training loss: 4.4783 0.2424 sec/batch\n",
      "Nearest to <PERIOD>: Breast, version, Matt, searchs, —NY, oatmeal, are…, night”,\n",
      "Nearest to it: Butt, AOTY, ️🔥, sooner, the, indictments, Chastain, stamina,\n",
      "Nearest to If: Conspiracy, ksoogifs, polo, Seducer, Shipyard, scooped, ARRESTED, kinda,\n",
      "Nearest to me: hikes, gerrymandering, 1960s, homosexuals, 😫😫😫, trailer, Goose, public…,\n",
      "Nearest to from: Marx, who'll, “laughed, blond, dopest, lik, walking…, Jouju,\n",
      "Nearest to by: perpetrators, accoun…, checked, judg…, Mugabe, ilhoon, mine…, Hwayugi,\n",
      "Nearest to our: Show', originally, 💊, TAEHYUNG'S, *coughs*, partake, CUSTODY, 🐣,\n",
      "Nearest to need: original, $4, hurdle, 💃, memorial, Naku, SINGAPORE, actor…,\n",
      "Nearest to x: golds, Anas, Rohn, grope, spanish, requesting, Sunggyu, acres,\n",
      "Nearest to songs: Boy, cooked, Reds, prestigious, Pyeongchang, Ravage, stole, Clarity,\n",
      "Nearest to fire: naps, hoeing, sweep, infiltrated, disasters, local, Pep, Edinson,\n",
      "Nearest to Was: verifying, Relaxing, disproportionate, relaunch, just, 1verse, revoking, Petrol,\n",
      "Nearest to Game: xan, Starve, CHUCK…, invading, exquisite, candidates…, Wallahi, q…,\n",
      "Nearest to whatever: 🐳, WOULD, Progressives, Carlisle, receptionist, Roxy, cor…, fossil,\n",
      "Nearest to concert: Toledo, redemption, Deeply, tweak, suggestion, Latin, Rad, Hashtags,\n",
      "Nearest to campaign: 263, much💕, handjob, Ballroom, EVENTS, Holdings, horizons, Toke,\n",
      "Nearest to insurance: yoi, Hyatt, addi…, 7pm, orphaned, sociopathic, Niggaz, averaging,\n",
      "Nearest to maximum: blowing, Auckland, Xena, P, keeps, Edited, Shielding, nearest,\n",
      "Nearest to claim: old, Medal, butterfly, saf…, DISMISS, Ka…, NATO, 🙂,\n",
      "Nearest to claims: this♦️, brave, fact, [YOUTUBE], astronaut, art, 7m, 🤷🏾‍♀️,\n",
      "Nearest to policy: Greed, Purposely, beauties, end…, OWNS, hit…, sticks, 😈😈😈,\n",
      "Nearest to dime: wealth, jest, cosplay, yun, we’ll, collapsed, embraced, BT21,\n",
      "Nearest to D1: Slut, Stockton, MSM, aide, walkin, mindful, Spectrum, Alyssa,\n",
      "Nearest to man: Coachella, kills, projecting, 20's, Racist, Leave, would’ve, children’,\n",
      "Nearest to woman: consideration, Malcom, Santana, 1-1, Touring, expects, preseason, 💃🏻🕺🏻😍😍😍,\n",
      "Nearest to cat: culpability, hacking, doesn't, ostensible, giveaways, SO…, Placement, wouldn’t,\n",
      "Nearest to dog: La…, Thurman, year…, deal', showings, -Rt, tinder, Blu-ray,\n",
      "Nearest to injury: bo2, Here's, Leave, retards, Foreigners, vultures, alllllllll, Psychological,\n",
      "Nearest to compensation: Marian, INNOCENT, navy, belasah, chose, INA, Unites, dangles,\n",
      "Nearest to worker: %, Confusion, sally, *votes, hides, shatta, Venda, churning,\n",
      "Nearest to workers: khubur, dad’s, determina…, Relaxation, bangtan, Cluster, secare, tasting,\n"
     ]
    },
    {
     "name": "stdout",
     "output_type": "stream",
     "text": [
      "Epoch 1/10 Iteration: 9100 Avg. Training loss: 4.4584 0.2408 sec/batch\n",
      "Epoch 1/10 Iteration: 9200 Avg. Training loss: 4.4840 0.2441 sec/batch\n",
      "Epoch 1/10 Iteration: 9300 Avg. Training loss: 4.4472 0.2459 sec/batch\n",
      "Epoch 1/10 Iteration: 9400 Avg. Training loss: 4.4677 0.2448 sec/batch\n",
      "Epoch 1/10 Iteration: 9500 Avg. Training loss: 4.4089 0.2514 sec/batch\n",
      "Epoch 1/10 Iteration: 9600 Avg. Training loss: 4.3878 0.2492 sec/batch\n",
      "Epoch 1/10 Iteration: 9700 Avg. Training loss: 4.3593 0.2512 sec/batch\n"
     ]
    }
   ],
   "source": [
    "epochs = 10\n",
    "batch_size = 1000\n",
    "window_size = 10\n",
    "\n",
    "with train_graph.as_default():\n",
    "    saver = tf.train.Saver()\n",
    "\n",
    "with tf.Session(graph=train_graph) as sess:\n",
    "    iteration = 1\n",
    "    loss = 0\n",
    "    sess.run(tf.global_variables_initializer())\n",
    "\n",
    "    for e in range(1, epochs+1):\n",
    "        batches = get_batches(train_words, batch_size, window_size)\n",
    "        start = time.time()\n",
    "        for x, y in batches:\n",
    "            \n",
    "            feed = {inputs: x,\n",
    "                    labels: np.array(y)[:, None]}\n",
    "            train_loss, _ = sess.run([cost, optimizer], feed_dict=feed)\n",
    "            \n",
    "            loss += train_loss\n",
    "            \n",
    "            if iteration % 100 == 0: \n",
    "                end = time.time()\n",
    "                print(\"Epoch {}/{}\".format(e, epochs),\n",
    "                      \"Iteration: {}\".format(iteration),\n",
    "                      \"Avg. Training loss: {:.4f}\".format(loss/100),\n",
    "                      \"{:.4f} sec/batch\".format((end-start)/100))\n",
    "                loss = 0\n",
    "                start = time.time()\n",
    "            \n",
    "            if iteration % 1000 == 0:\n",
    "                # note that this is expensive (~20% slowdown if computed every 500 steps)\n",
    "                sim = similarity.eval()\n",
    "                for i in range(valid_size):\n",
    "                    valid_word = int_to_vocab[valid_examples[i]]\n",
    "                    top_k = 8 # number of nearest neighbors\n",
    "                    nearest = (-sim[i, :]).argsort()[1:top_k+1]\n",
    "                    log = 'Nearest to %s:' % valid_word\n",
    "                    for k in range(top_k):\n",
    "                        close_word = int_to_vocab[nearest[k]]\n",
    "                        log = '%s %s,' % (log, close_word)\n",
    "                    print(log)\n",
    "            \n",
    "            iteration += 1\n",
    "    save_path = saver.save(sess, \"checkpoints/twitter.ckpt\")\n",
    "    embed_mat = sess.run(normalized_embedding)"
   ]
  },
  {
   "cell_type": "markdown",
   "metadata": {},
   "source": [
    "Restore the trained network if you need to:"
   ]
  },
  {
   "cell_type": "code",
   "execution_count": null,
   "metadata": {},
   "outputs": [],
   "source": [
    "with train_graph.as_default():\n",
    "    saver = tf.train.Saver()\n",
    "\n",
    "with tf.Session(graph=train_graph) as sess:\n",
    "    saver.restore(sess, tf.train.latest_checkpoint('checkpoints'))\n",
    "    embed_mat = sess.run(embedding)"
   ]
  },
  {
   "cell_type": "markdown",
   "metadata": {},
   "source": [
    "## Visualizing the word vectors\n",
    "\n",
    "Below we'll use T-SNE to visualize how our high-dimensional word vectors cluster together. T-SNE is used to project these vectors into two dimensions while preserving local stucture. Check out [this post from Christopher Olah](http://colah.github.io/posts/2014-10-Visualizing-MNIST/) to learn more about T-SNE and other ways to visualize high-dimensional data."
   ]
  },
  {
   "cell_type": "code",
   "execution_count": null,
   "metadata": {
    "collapsed": true
   },
   "outputs": [],
   "source": [
    "%matplotlib inline\n",
    "%config InlineBackend.figure_format = 'retina'\n",
    "\n",
    "import matplotlib.pyplot as plt\n",
    "from sklearn.manifold import TSNE"
   ]
  },
  {
   "cell_type": "code",
   "execution_count": null,
   "metadata": {
    "collapsed": true
   },
   "outputs": [],
   "source": [
    "viz_words = 500\n",
    "tsne = TSNE()\n",
    "embed_tsne = tsne.fit_transform(embed_mat[:viz_words, :])"
   ]
  },
  {
   "cell_type": "code",
   "execution_count": null,
   "metadata": {},
   "outputs": [],
   "source": [
    "fig, ax = plt.subplots(figsize=(14, 14))\n",
    "for idx in range(viz_words):\n",
    "    plt.scatter(*embed_tsne[idx, :], color='steelblue')\n",
    "    plt.annotate(int_to_vocab[idx], (embed_tsne[idx, 0], embed_tsne[idx, 1]), alpha=0.7)"
   ]
  },
  {
   "cell_type": "code",
   "execution_count": null,
   "metadata": {
    "collapsed": true
   },
   "outputs": [],
   "source": []
  }
 ],
 "metadata": {
  "kernelspec": {
   "display_name": "Python 3",
   "language": "python",
   "name": "python3"
  },
  "language_info": {
   "codemirror_mode": {
    "name": "ipython",
    "version": 3
   },
   "file_extension": ".py",
   "mimetype": "text/x-python",
   "name": "python",
   "nbconvert_exporter": "python",
   "pygments_lexer": "ipython3",
   "version": "3.6.3"
  }
 },
 "nbformat": 4,
 "nbformat_minor": 2
}
